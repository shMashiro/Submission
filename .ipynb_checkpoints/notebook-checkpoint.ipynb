{
 "cells": [
  {
   "cell_type": "markdown",
   "metadata": {
    "id": "H9wADwK78DCz"
   },
   "source": [
    "# Proyek Analisis Data: Bike Sharing Dataset\n",
    "- **Nama:** Reihan Aulia Darojat\n",
    "- **Email:** reihanauliadarojat@gmail.com\n",
    "- **ID Dicoding:** shmashiro"
   ]
  },
  {
   "cell_type": "markdown",
   "metadata": {
    "id": "eE0raob58DC0"
   },
   "source": [
    "## Menentukan Pertanyaan Bisnis"
   ]
  },
  {
   "cell_type": "markdown",
   "metadata": {
    "id": "GmQeQ5YF8DC0"
   },
   "source": [
    "- Bagaimana pengaruh kondisi cuaca terhadap jumlah penyewaan sepeda?\n",
    "- Apakah terdapat perbedaan jumlah penyewaan sepeda antara hari kerja dan akhir pekan?\n",
    "- Bagaimana pengaruh kondisi suhu, kelembapan dan kecepa terhadap jumlah penyewaan sepeda?"
   ]
  },
  {
   "cell_type": "markdown",
   "metadata": {
    "id": "H-z4QGlO8DC1"
   },
   "source": [
    "## Import Semua Packages/Library yang Digunakan"
   ]
  },
  {
   "cell_type": "code",
   "execution_count": 3,
   "metadata": {
    "id": "FVYwaObI8DC1"
   },
   "outputs": [],
   "source": [
    "import numpy as np \n",
    "import pandas as pd\n",
    "import matplotlib.pyplot as plt\n",
    "import seaborn as sns"
   ]
  },
  {
   "cell_type": "markdown",
   "metadata": {
    "id": "h_Sh51Xy8DC1"
   },
   "source": [
    "## Data Wrangling"
   ]
  },
  {
   "cell_type": "markdown",
   "metadata": {
    "id": "sXU2GBYu8DC1"
   },
   "source": [
    "### Gathering Data"
   ]
  },
  {
   "cell_type": "markdown",
   "metadata": {},
   "source": [
    "#### Memuat data day.csv"
   ]
  },
  {
   "cell_type": "code",
   "execution_count": 8,
   "metadata": {
    "id": "zjCBk1BI8DC1"
   },
   "outputs": [
    {
     "data": {
      "text/html": [
       "<div>\n",
       "<style scoped>\n",
       "    .dataframe tbody tr th:only-of-type {\n",
       "        vertical-align: middle;\n",
       "    }\n",
       "\n",
       "    .dataframe tbody tr th {\n",
       "        vertical-align: top;\n",
       "    }\n",
       "\n",
       "    .dataframe thead th {\n",
       "        text-align: right;\n",
       "    }\n",
       "</style>\n",
       "<table border=\"1\" class=\"dataframe\">\n",
       "  <thead>\n",
       "    <tr style=\"text-align: right;\">\n",
       "      <th></th>\n",
       "      <th>instant</th>\n",
       "      <th>dteday</th>\n",
       "      <th>season</th>\n",
       "      <th>yr</th>\n",
       "      <th>mnth</th>\n",
       "      <th>holiday</th>\n",
       "      <th>weekday</th>\n",
       "      <th>workingday</th>\n",
       "      <th>weathersit</th>\n",
       "      <th>temp</th>\n",
       "      <th>atemp</th>\n",
       "      <th>hum</th>\n",
       "      <th>windspeed</th>\n",
       "      <th>casual</th>\n",
       "      <th>registered</th>\n",
       "      <th>cnt</th>\n",
       "    </tr>\n",
       "  </thead>\n",
       "  <tbody>\n",
       "    <tr>\n",
       "      <th>0</th>\n",
       "      <td>1</td>\n",
       "      <td>2011-01-01</td>\n",
       "      <td>1</td>\n",
       "      <td>0</td>\n",
       "      <td>1</td>\n",
       "      <td>0</td>\n",
       "      <td>6</td>\n",
       "      <td>0</td>\n",
       "      <td>2</td>\n",
       "      <td>0.344167</td>\n",
       "      <td>0.363625</td>\n",
       "      <td>0.805833</td>\n",
       "      <td>0.160446</td>\n",
       "      <td>331</td>\n",
       "      <td>654</td>\n",
       "      <td>985</td>\n",
       "    </tr>\n",
       "    <tr>\n",
       "      <th>1</th>\n",
       "      <td>2</td>\n",
       "      <td>2011-01-02</td>\n",
       "      <td>1</td>\n",
       "      <td>0</td>\n",
       "      <td>1</td>\n",
       "      <td>0</td>\n",
       "      <td>0</td>\n",
       "      <td>0</td>\n",
       "      <td>2</td>\n",
       "      <td>0.363478</td>\n",
       "      <td>0.353739</td>\n",
       "      <td>0.696087</td>\n",
       "      <td>0.248539</td>\n",
       "      <td>131</td>\n",
       "      <td>670</td>\n",
       "      <td>801</td>\n",
       "    </tr>\n",
       "    <tr>\n",
       "      <th>2</th>\n",
       "      <td>3</td>\n",
       "      <td>2011-01-03</td>\n",
       "      <td>1</td>\n",
       "      <td>0</td>\n",
       "      <td>1</td>\n",
       "      <td>0</td>\n",
       "      <td>1</td>\n",
       "      <td>1</td>\n",
       "      <td>1</td>\n",
       "      <td>0.196364</td>\n",
       "      <td>0.189405</td>\n",
       "      <td>0.437273</td>\n",
       "      <td>0.248309</td>\n",
       "      <td>120</td>\n",
       "      <td>1229</td>\n",
       "      <td>1349</td>\n",
       "    </tr>\n",
       "    <tr>\n",
       "      <th>3</th>\n",
       "      <td>4</td>\n",
       "      <td>2011-01-04</td>\n",
       "      <td>1</td>\n",
       "      <td>0</td>\n",
       "      <td>1</td>\n",
       "      <td>0</td>\n",
       "      <td>2</td>\n",
       "      <td>1</td>\n",
       "      <td>1</td>\n",
       "      <td>0.200000</td>\n",
       "      <td>0.212122</td>\n",
       "      <td>0.590435</td>\n",
       "      <td>0.160296</td>\n",
       "      <td>108</td>\n",
       "      <td>1454</td>\n",
       "      <td>1562</td>\n",
       "    </tr>\n",
       "    <tr>\n",
       "      <th>4</th>\n",
       "      <td>5</td>\n",
       "      <td>2011-01-05</td>\n",
       "      <td>1</td>\n",
       "      <td>0</td>\n",
       "      <td>1</td>\n",
       "      <td>0</td>\n",
       "      <td>3</td>\n",
       "      <td>1</td>\n",
       "      <td>1</td>\n",
       "      <td>0.226957</td>\n",
       "      <td>0.229270</td>\n",
       "      <td>0.436957</td>\n",
       "      <td>0.186900</td>\n",
       "      <td>82</td>\n",
       "      <td>1518</td>\n",
       "      <td>1600</td>\n",
       "    </tr>\n",
       "  </tbody>\n",
       "</table>\n",
       "</div>"
      ],
      "text/plain": [
       "   instant      dteday  season  yr  mnth  holiday  weekday  workingday  \\\n",
       "0        1  2011-01-01       1   0     1        0        6           0   \n",
       "1        2  2011-01-02       1   0     1        0        0           0   \n",
       "2        3  2011-01-03       1   0     1        0        1           1   \n",
       "3        4  2011-01-04       1   0     1        0        2           1   \n",
       "4        5  2011-01-05       1   0     1        0        3           1   \n",
       "\n",
       "   weathersit      temp     atemp       hum  windspeed  casual  registered  \\\n",
       "0           2  0.344167  0.363625  0.805833   0.160446     331         654   \n",
       "1           2  0.363478  0.353739  0.696087   0.248539     131         670   \n",
       "2           1  0.196364  0.189405  0.437273   0.248309     120        1229   \n",
       "3           1  0.200000  0.212122  0.590435   0.160296     108        1454   \n",
       "4           1  0.226957  0.229270  0.436957   0.186900      82        1518   \n",
       "\n",
       "    cnt  \n",
       "0   985  \n",
       "1   801  \n",
       "2  1349  \n",
       "3  1562  \n",
       "4  1600  "
      ]
     },
     "execution_count": 8,
     "metadata": {},
     "output_type": "execute_result"
    }
   ],
   "source": [
    "day_df = pd.read_csv(\"data/day.csv\")\n",
    "day_df.head()"
   ]
  },
  {
   "cell_type": "markdown",
   "metadata": {
    "id": "MMi6xGaDkbCi"
   },
   "source": [
    "**Insight: diketahui dari sumber penyedia data bahwa**\n",
    "- instant: Indeks record.\n",
    "- dteday: Tanggal.\n",
    "- season: Musim (1: semi, 2: panas, 3: gugur, 4: dingin).\n",
    "- yr: Tahun (0: 2011, 1: 2012).\n",
    "- mnth: Bulan (1 hingga 12).\n",
    "- holiday: Apakah hari tersebut adalah hari libur (1: ya, 0: tidak).\n",
    "- weekday: Hari dalam seminggu.\n",
    "- workingday: Hari kerja (1: ya, 0: tidak).\n",
    "- weathersit: Kondisi cuaca:\n",
    "- 1: Cerah, beberapa awan.\n",
    "- 2: Kabut + Berawan.\n",
    "- 3: Salju ringan, hujan ringan.\n",
    "- 4: Hujan deras + Salju + Kabut.\n",
    "- temp: Suhu terstandardisasi dalam Celsius. Suhu yang dinormalisasi dalam Celsius. Nilai dibagi dengan 41 (maksimum).\n",
    "- atemp: Suhu terasa terstandardisasi dalam Celsius. Suhu perasaan yang dinormalisasi dalam Celsius. Nilai dibagi dengan 50 (maksimum).\n",
    "- hum: Kelembapan terstandardisasi.\n",
    "- windspeed: Kecepatan angin terstandardisasi.\n",
    "- casual: Jumlah pengguna kasual.\n",
    "- registered: Jumlah pengguna terdaftar.\n",
    "- cnt: Total sewa sepeda (kasual + terdaftar)."
   ]
  },
  {
   "cell_type": "markdown",
   "metadata": {},
   "source": [
    "#### Memuat data hour.csv"
   ]
  },
  {
   "cell_type": "code",
   "execution_count": 12,
   "metadata": {
    "id": "zjCBk1BI8DC1"
   },
   "outputs": [
    {
     "data": {
      "text/html": [
       "<div>\n",
       "<style scoped>\n",
       "    .dataframe tbody tr th:only-of-type {\n",
       "        vertical-align: middle;\n",
       "    }\n",
       "\n",
       "    .dataframe tbody tr th {\n",
       "        vertical-align: top;\n",
       "    }\n",
       "\n",
       "    .dataframe thead th {\n",
       "        text-align: right;\n",
       "    }\n",
       "</style>\n",
       "<table border=\"1\" class=\"dataframe\">\n",
       "  <thead>\n",
       "    <tr style=\"text-align: right;\">\n",
       "      <th></th>\n",
       "      <th>instant</th>\n",
       "      <th>dteday</th>\n",
       "      <th>season</th>\n",
       "      <th>yr</th>\n",
       "      <th>mnth</th>\n",
       "      <th>hr</th>\n",
       "      <th>holiday</th>\n",
       "      <th>weekday</th>\n",
       "      <th>workingday</th>\n",
       "      <th>weathersit</th>\n",
       "      <th>temp</th>\n",
       "      <th>atemp</th>\n",
       "      <th>hum</th>\n",
       "      <th>windspeed</th>\n",
       "      <th>casual</th>\n",
       "      <th>registered</th>\n",
       "      <th>cnt</th>\n",
       "    </tr>\n",
       "  </thead>\n",
       "  <tbody>\n",
       "    <tr>\n",
       "      <th>0</th>\n",
       "      <td>1</td>\n",
       "      <td>2011-01-01</td>\n",
       "      <td>1</td>\n",
       "      <td>0</td>\n",
       "      <td>1</td>\n",
       "      <td>0</td>\n",
       "      <td>0</td>\n",
       "      <td>6</td>\n",
       "      <td>0</td>\n",
       "      <td>1</td>\n",
       "      <td>0.24</td>\n",
       "      <td>0.2879</td>\n",
       "      <td>0.81</td>\n",
       "      <td>0.0</td>\n",
       "      <td>3</td>\n",
       "      <td>13</td>\n",
       "      <td>16</td>\n",
       "    </tr>\n",
       "    <tr>\n",
       "      <th>1</th>\n",
       "      <td>2</td>\n",
       "      <td>2011-01-01</td>\n",
       "      <td>1</td>\n",
       "      <td>0</td>\n",
       "      <td>1</td>\n",
       "      <td>1</td>\n",
       "      <td>0</td>\n",
       "      <td>6</td>\n",
       "      <td>0</td>\n",
       "      <td>1</td>\n",
       "      <td>0.22</td>\n",
       "      <td>0.2727</td>\n",
       "      <td>0.80</td>\n",
       "      <td>0.0</td>\n",
       "      <td>8</td>\n",
       "      <td>32</td>\n",
       "      <td>40</td>\n",
       "    </tr>\n",
       "    <tr>\n",
       "      <th>2</th>\n",
       "      <td>3</td>\n",
       "      <td>2011-01-01</td>\n",
       "      <td>1</td>\n",
       "      <td>0</td>\n",
       "      <td>1</td>\n",
       "      <td>2</td>\n",
       "      <td>0</td>\n",
       "      <td>6</td>\n",
       "      <td>0</td>\n",
       "      <td>1</td>\n",
       "      <td>0.22</td>\n",
       "      <td>0.2727</td>\n",
       "      <td>0.80</td>\n",
       "      <td>0.0</td>\n",
       "      <td>5</td>\n",
       "      <td>27</td>\n",
       "      <td>32</td>\n",
       "    </tr>\n",
       "    <tr>\n",
       "      <th>3</th>\n",
       "      <td>4</td>\n",
       "      <td>2011-01-01</td>\n",
       "      <td>1</td>\n",
       "      <td>0</td>\n",
       "      <td>1</td>\n",
       "      <td>3</td>\n",
       "      <td>0</td>\n",
       "      <td>6</td>\n",
       "      <td>0</td>\n",
       "      <td>1</td>\n",
       "      <td>0.24</td>\n",
       "      <td>0.2879</td>\n",
       "      <td>0.75</td>\n",
       "      <td>0.0</td>\n",
       "      <td>3</td>\n",
       "      <td>10</td>\n",
       "      <td>13</td>\n",
       "    </tr>\n",
       "    <tr>\n",
       "      <th>4</th>\n",
       "      <td>5</td>\n",
       "      <td>2011-01-01</td>\n",
       "      <td>1</td>\n",
       "      <td>0</td>\n",
       "      <td>1</td>\n",
       "      <td>4</td>\n",
       "      <td>0</td>\n",
       "      <td>6</td>\n",
       "      <td>0</td>\n",
       "      <td>1</td>\n",
       "      <td>0.24</td>\n",
       "      <td>0.2879</td>\n",
       "      <td>0.75</td>\n",
       "      <td>0.0</td>\n",
       "      <td>0</td>\n",
       "      <td>1</td>\n",
       "      <td>1</td>\n",
       "    </tr>\n",
       "  </tbody>\n",
       "</table>\n",
       "</div>"
      ],
      "text/plain": [
       "   instant      dteday  season  yr  mnth  hr  holiday  weekday  workingday  \\\n",
       "0        1  2011-01-01       1   0     1   0        0        6           0   \n",
       "1        2  2011-01-01       1   0     1   1        0        6           0   \n",
       "2        3  2011-01-01       1   0     1   2        0        6           0   \n",
       "3        4  2011-01-01       1   0     1   3        0        6           0   \n",
       "4        5  2011-01-01       1   0     1   4        0        6           0   \n",
       "\n",
       "   weathersit  temp   atemp   hum  windspeed  casual  registered  cnt  \n",
       "0           1  0.24  0.2879  0.81        0.0       3          13   16  \n",
       "1           1  0.22  0.2727  0.80        0.0       8          32   40  \n",
       "2           1  0.22  0.2727  0.80        0.0       5          27   32  \n",
       "3           1  0.24  0.2879  0.75        0.0       3          10   13  \n",
       "4           1  0.24  0.2879  0.75        0.0       0           1    1  "
      ]
     },
     "execution_count": 12,
     "metadata": {},
     "output_type": "execute_result"
    }
   ],
   "source": [
    "hour_df = pd.read_csv(\"data/hour.csv\")\n",
    "hour_df.head()"
   ]
  },
  {
   "cell_type": "markdown",
   "metadata": {
    "id": "MMi6xGaDkbCi"
   },
   "source": [
    "**Insight: Sedikit Penambahan**\n",
    "- hr adalah Hour/jam\n",
    "- **temp**: Suhu yang dinormalisasi dalam Celsius. Nilai dihitung menggunakan rumus \\((t - t_{\\text{min}}) / (t_{\\text{max}} - t_{\\text{min}})\\), dengan \\(t_{\\text{min}} = -8\\) dan \\(t_{\\text{max}} = +39\\) (hanya dalam skala per jam).\r\n",
    "- **atemp**: Suhu perasaan yang dinormalisasi dalam Celsius. Nilai dihitung menggunakan rumus \\((t - t_{\\text{min}}) / (t_{\\text{max}} - t_{\\text{min}})\\), dengan \\(t_{\\text{min}} = -16\\) dan \\(t_{\\text{max}} = +50\\) (hanya dalam skala per jam).\r\n"
   ]
  },
  {
   "cell_type": "markdown",
   "metadata": {
    "id": "FHSiqaZp8DC1"
   },
   "source": [
    "### Assessing Data\n",
    "\n",
    "Sekarang kita masuk ke tahap kedua dalam proses data wrangling yaitu assessing data"
   ]
  },
  {
   "cell_type": "markdown",
   "metadata": {},
   "source": [
    "#### Menilai Data day_df\n",
    "Data pertama yang akan kita nilai adalah day_df. Sebagai permulaan, kita memeriksa tipe data data dari tiap kolom yang terdapat dalam day_df. Proses ini dapat dilakukan menggunakan method info() seperti contoh kode berikut."
   ]
  },
  {
   "cell_type": "code",
   "execution_count": 17,
   "metadata": {
    "id": "ax-3tEjc9Cj1"
   },
   "outputs": [
    {
     "name": "stdout",
     "output_type": "stream",
     "text": [
      "<class 'pandas.core.frame.DataFrame'>\n",
      "RangeIndex: 731 entries, 0 to 730\n",
      "Data columns (total 16 columns):\n",
      " #   Column      Non-Null Count  Dtype  \n",
      "---  ------      --------------  -----  \n",
      " 0   instant     731 non-null    int64  \n",
      " 1   dteday      731 non-null    object \n",
      " 2   season      731 non-null    int64  \n",
      " 3   yr          731 non-null    int64  \n",
      " 4   mnth        731 non-null    int64  \n",
      " 5   holiday     731 non-null    int64  \n",
      " 6   weekday     731 non-null    int64  \n",
      " 7   workingday  731 non-null    int64  \n",
      " 8   weathersit  731 non-null    int64  \n",
      " 9   temp        731 non-null    float64\n",
      " 10  atemp       731 non-null    float64\n",
      " 11  hum         731 non-null    float64\n",
      " 12  windspeed   731 non-null    float64\n",
      " 13  casual      731 non-null    int64  \n",
      " 14  registered  731 non-null    int64  \n",
      " 15  cnt         731 non-null    int64  \n",
      "dtypes: float64(4), int64(11), object(1)\n",
      "memory usage: 91.5+ KB\n"
     ]
    }
   ],
   "source": [
    "day_df.info()"
   ]
  },
  {
   "cell_type": "markdown",
   "metadata": {
    "id": "7dtxhAPrkhPL"
   },
   "source": [
    "**Insight:**\n",
    "\n",
    "- terdapat kesalahan pada kolom dteday tipe data object yang harusnya direpresentasikan sebagai tipe data datetime\n",
    "- Pada data ini tidak ditemukan perbedaan data pada tiap kolom sehingga tiap kolom tidak memiliki missing value."
   ]
  },
  {
   "cell_type": "code",
   "execution_count": 20,
   "metadata": {},
   "outputs": [
    {
     "name": "stdout",
     "output_type": "stream",
     "text": [
      "Jumlah duplikasi:  0\n"
     ]
    },
    {
     "data": {
      "text/html": [
       "<div>\n",
       "<style scoped>\n",
       "    .dataframe tbody tr th:only-of-type {\n",
       "        vertical-align: middle;\n",
       "    }\n",
       "\n",
       "    .dataframe tbody tr th {\n",
       "        vertical-align: top;\n",
       "    }\n",
       "\n",
       "    .dataframe thead th {\n",
       "        text-align: right;\n",
       "    }\n",
       "</style>\n",
       "<table border=\"1\" class=\"dataframe\">\n",
       "  <thead>\n",
       "    <tr style=\"text-align: right;\">\n",
       "      <th></th>\n",
       "      <th>instant</th>\n",
       "      <th>season</th>\n",
       "      <th>yr</th>\n",
       "      <th>mnth</th>\n",
       "      <th>holiday</th>\n",
       "      <th>weekday</th>\n",
       "      <th>workingday</th>\n",
       "      <th>weathersit</th>\n",
       "      <th>temp</th>\n",
       "      <th>atemp</th>\n",
       "      <th>hum</th>\n",
       "      <th>windspeed</th>\n",
       "      <th>casual</th>\n",
       "      <th>registered</th>\n",
       "      <th>cnt</th>\n",
       "    </tr>\n",
       "  </thead>\n",
       "  <tbody>\n",
       "    <tr>\n",
       "      <th>count</th>\n",
       "      <td>731.000000</td>\n",
       "      <td>731.000000</td>\n",
       "      <td>731.000000</td>\n",
       "      <td>731.000000</td>\n",
       "      <td>731.000000</td>\n",
       "      <td>731.000000</td>\n",
       "      <td>731.000000</td>\n",
       "      <td>731.000000</td>\n",
       "      <td>731.000000</td>\n",
       "      <td>731.000000</td>\n",
       "      <td>731.000000</td>\n",
       "      <td>731.000000</td>\n",
       "      <td>731.000000</td>\n",
       "      <td>731.000000</td>\n",
       "      <td>731.000000</td>\n",
       "    </tr>\n",
       "    <tr>\n",
       "      <th>mean</th>\n",
       "      <td>366.000000</td>\n",
       "      <td>2.496580</td>\n",
       "      <td>0.500684</td>\n",
       "      <td>6.519836</td>\n",
       "      <td>0.028728</td>\n",
       "      <td>2.997264</td>\n",
       "      <td>0.683995</td>\n",
       "      <td>1.395349</td>\n",
       "      <td>0.495385</td>\n",
       "      <td>0.474354</td>\n",
       "      <td>0.627894</td>\n",
       "      <td>0.190486</td>\n",
       "      <td>848.176471</td>\n",
       "      <td>3656.172367</td>\n",
       "      <td>4504.348837</td>\n",
       "    </tr>\n",
       "    <tr>\n",
       "      <th>std</th>\n",
       "      <td>211.165812</td>\n",
       "      <td>1.110807</td>\n",
       "      <td>0.500342</td>\n",
       "      <td>3.451913</td>\n",
       "      <td>0.167155</td>\n",
       "      <td>2.004787</td>\n",
       "      <td>0.465233</td>\n",
       "      <td>0.544894</td>\n",
       "      <td>0.183051</td>\n",
       "      <td>0.162961</td>\n",
       "      <td>0.142429</td>\n",
       "      <td>0.077498</td>\n",
       "      <td>686.622488</td>\n",
       "      <td>1560.256377</td>\n",
       "      <td>1937.211452</td>\n",
       "    </tr>\n",
       "    <tr>\n",
       "      <th>min</th>\n",
       "      <td>1.000000</td>\n",
       "      <td>1.000000</td>\n",
       "      <td>0.000000</td>\n",
       "      <td>1.000000</td>\n",
       "      <td>0.000000</td>\n",
       "      <td>0.000000</td>\n",
       "      <td>0.000000</td>\n",
       "      <td>1.000000</td>\n",
       "      <td>0.059130</td>\n",
       "      <td>0.079070</td>\n",
       "      <td>0.000000</td>\n",
       "      <td>0.022392</td>\n",
       "      <td>2.000000</td>\n",
       "      <td>20.000000</td>\n",
       "      <td>22.000000</td>\n",
       "    </tr>\n",
       "    <tr>\n",
       "      <th>25%</th>\n",
       "      <td>183.500000</td>\n",
       "      <td>2.000000</td>\n",
       "      <td>0.000000</td>\n",
       "      <td>4.000000</td>\n",
       "      <td>0.000000</td>\n",
       "      <td>1.000000</td>\n",
       "      <td>0.000000</td>\n",
       "      <td>1.000000</td>\n",
       "      <td>0.337083</td>\n",
       "      <td>0.337842</td>\n",
       "      <td>0.520000</td>\n",
       "      <td>0.134950</td>\n",
       "      <td>315.500000</td>\n",
       "      <td>2497.000000</td>\n",
       "      <td>3152.000000</td>\n",
       "    </tr>\n",
       "    <tr>\n",
       "      <th>50%</th>\n",
       "      <td>366.000000</td>\n",
       "      <td>3.000000</td>\n",
       "      <td>1.000000</td>\n",
       "      <td>7.000000</td>\n",
       "      <td>0.000000</td>\n",
       "      <td>3.000000</td>\n",
       "      <td>1.000000</td>\n",
       "      <td>1.000000</td>\n",
       "      <td>0.498333</td>\n",
       "      <td>0.486733</td>\n",
       "      <td>0.626667</td>\n",
       "      <td>0.180975</td>\n",
       "      <td>713.000000</td>\n",
       "      <td>3662.000000</td>\n",
       "      <td>4548.000000</td>\n",
       "    </tr>\n",
       "    <tr>\n",
       "      <th>75%</th>\n",
       "      <td>548.500000</td>\n",
       "      <td>3.000000</td>\n",
       "      <td>1.000000</td>\n",
       "      <td>10.000000</td>\n",
       "      <td>0.000000</td>\n",
       "      <td>5.000000</td>\n",
       "      <td>1.000000</td>\n",
       "      <td>2.000000</td>\n",
       "      <td>0.655417</td>\n",
       "      <td>0.608602</td>\n",
       "      <td>0.730209</td>\n",
       "      <td>0.233214</td>\n",
       "      <td>1096.000000</td>\n",
       "      <td>4776.500000</td>\n",
       "      <td>5956.000000</td>\n",
       "    </tr>\n",
       "    <tr>\n",
       "      <th>max</th>\n",
       "      <td>731.000000</td>\n",
       "      <td>4.000000</td>\n",
       "      <td>1.000000</td>\n",
       "      <td>12.000000</td>\n",
       "      <td>1.000000</td>\n",
       "      <td>6.000000</td>\n",
       "      <td>1.000000</td>\n",
       "      <td>3.000000</td>\n",
       "      <td>0.861667</td>\n",
       "      <td>0.840896</td>\n",
       "      <td>0.972500</td>\n",
       "      <td>0.507463</td>\n",
       "      <td>3410.000000</td>\n",
       "      <td>6946.000000</td>\n",
       "      <td>8714.000000</td>\n",
       "    </tr>\n",
       "  </tbody>\n",
       "</table>\n",
       "</div>"
      ],
      "text/plain": [
       "          instant      season          yr        mnth     holiday     weekday  \\\n",
       "count  731.000000  731.000000  731.000000  731.000000  731.000000  731.000000   \n",
       "mean   366.000000    2.496580    0.500684    6.519836    0.028728    2.997264   \n",
       "std    211.165812    1.110807    0.500342    3.451913    0.167155    2.004787   \n",
       "min      1.000000    1.000000    0.000000    1.000000    0.000000    0.000000   \n",
       "25%    183.500000    2.000000    0.000000    4.000000    0.000000    1.000000   \n",
       "50%    366.000000    3.000000    1.000000    7.000000    0.000000    3.000000   \n",
       "75%    548.500000    3.000000    1.000000   10.000000    0.000000    5.000000   \n",
       "max    731.000000    4.000000    1.000000   12.000000    1.000000    6.000000   \n",
       "\n",
       "       workingday  weathersit        temp       atemp         hum   windspeed  \\\n",
       "count  731.000000  731.000000  731.000000  731.000000  731.000000  731.000000   \n",
       "mean     0.683995    1.395349    0.495385    0.474354    0.627894    0.190486   \n",
       "std      0.465233    0.544894    0.183051    0.162961    0.142429    0.077498   \n",
       "min      0.000000    1.000000    0.059130    0.079070    0.000000    0.022392   \n",
       "25%      0.000000    1.000000    0.337083    0.337842    0.520000    0.134950   \n",
       "50%      1.000000    1.000000    0.498333    0.486733    0.626667    0.180975   \n",
       "75%      1.000000    2.000000    0.655417    0.608602    0.730209    0.233214   \n",
       "max      1.000000    3.000000    0.861667    0.840896    0.972500    0.507463   \n",
       "\n",
       "            casual   registered          cnt  \n",
       "count   731.000000   731.000000   731.000000  \n",
       "mean    848.176471  3656.172367  4504.348837  \n",
       "std     686.622488  1560.256377  1937.211452  \n",
       "min       2.000000    20.000000    22.000000  \n",
       "25%     315.500000  2497.000000  3152.000000  \n",
       "50%     713.000000  3662.000000  4548.000000  \n",
       "75%    1096.000000  4776.500000  5956.000000  \n",
       "max    3410.000000  6946.000000  8714.000000  "
      ]
     },
     "execution_count": 20,
     "metadata": {},
     "output_type": "execute_result"
    }
   ],
   "source": [
    "print(\"Jumlah duplikasi: \", day_df.duplicated().sum())\n",
    "day_df.describe()"
   ]
  },
  {
   "cell_type": "markdown",
   "metadata": {},
   "source": [
    "**insight:**\n",
    "\n",
    "Tidak ditemukan duplikat dalam data ini"
   ]
  },
  {
   "cell_type": "markdown",
   "metadata": {},
   "source": [
    "#### Menilai Data hour_df\n",
    "Data pertama yang akan kita nilai adalah hour_df. sama seperti sebelumnya, kita memeriksa tipe data data dari tiap kolom yang terdapat dalam hour_df. Proses ini dapat dilakukan menggunakan method info() seperti contoh kode berikut."
   ]
  },
  {
   "cell_type": "code",
   "execution_count": 24,
   "metadata": {},
   "outputs": [
    {
     "name": "stdout",
     "output_type": "stream",
     "text": [
      "<class 'pandas.core.frame.DataFrame'>\n",
      "RangeIndex: 17379 entries, 0 to 17378\n",
      "Data columns (total 17 columns):\n",
      " #   Column      Non-Null Count  Dtype  \n",
      "---  ------      --------------  -----  \n",
      " 0   instant     17379 non-null  int64  \n",
      " 1   dteday      17379 non-null  object \n",
      " 2   season      17379 non-null  int64  \n",
      " 3   yr          17379 non-null  int64  \n",
      " 4   mnth        17379 non-null  int64  \n",
      " 5   hr          17379 non-null  int64  \n",
      " 6   holiday     17379 non-null  int64  \n",
      " 7   weekday     17379 non-null  int64  \n",
      " 8   workingday  17379 non-null  int64  \n",
      " 9   weathersit  17379 non-null  int64  \n",
      " 10  temp        17379 non-null  float64\n",
      " 11  atemp       17379 non-null  float64\n",
      " 12  hum         17379 non-null  float64\n",
      " 13  windspeed   17379 non-null  float64\n",
      " 14  casual      17379 non-null  int64  \n",
      " 15  registered  17379 non-null  int64  \n",
      " 16  cnt         17379 non-null  int64  \n",
      "dtypes: float64(4), int64(12), object(1)\n",
      "memory usage: 2.3+ MB\n"
     ]
    }
   ],
   "source": [
    "hour_df.info()"
   ]
  },
  {
   "cell_type": "markdown",
   "metadata": {
    "id": "7dtxhAPrkhPL"
   },
   "source": [
    "**Insight:**\n",
    "\n",
    "- terdapat kesalahan pada kolom dteday tipe data object yang harusnya direpresentasikan sebagai tipe data datetime\n",
    "- Pada data ini tidak ditemukan perbedaan data pada tiap kolom sehingga tiap kolom tidak memiliki missing value."
   ]
  },
  {
   "cell_type": "markdown",
   "metadata": {
    "id": "EhN5R4hr8DC1"
   },
   "source": [
    "### Cleaning Data\n",
    "\n",
    "Sekarang kita akan melakukan cleaning data dengan permasalahan yang telah ditemukan, yaitu kolom dtday tipe data **object** pada data **day_df** dan **hour_df**. kita akan melakukan penggantian dari tipe data **object** menjadi **datetime**"
   ]
  },
  {
   "cell_type": "markdown",
   "metadata": {},
   "source": [
    "#### Cleaning day_df kolom dtday dari tipe data \"object\" ke \"datetime\""
   ]
  },
  {
   "cell_type": "code",
   "execution_count": 29,
   "metadata": {
    "id": "jVnYpprE9Evz"
   },
   "outputs": [],
   "source": [
    "datetime_columns = [\"dteday\"]\n",
    "\n",
    "for column in datetime_columns:\n",
    "  day_df[column] = pd.to_datetime(day_df[column])"
   ]
  },
  {
   "cell_type": "markdown",
   "metadata": {
    "id": "Q_5ejIqckiSP"
   },
   "source": [
    "Memeriksa kembali informasi dteday"
   ]
  },
  {
   "cell_type": "code",
   "execution_count": 32,
   "metadata": {},
   "outputs": [
    {
     "name": "stdout",
     "output_type": "stream",
     "text": [
      "<class 'pandas.core.frame.DataFrame'>\n",
      "RangeIndex: 731 entries, 0 to 730\n",
      "Data columns (total 16 columns):\n",
      " #   Column      Non-Null Count  Dtype         \n",
      "---  ------      --------------  -----         \n",
      " 0   instant     731 non-null    int64         \n",
      " 1   dteday      731 non-null    datetime64[ns]\n",
      " 2   season      731 non-null    int64         \n",
      " 3   yr          731 non-null    int64         \n",
      " 4   mnth        731 non-null    int64         \n",
      " 5   holiday     731 non-null    int64         \n",
      " 6   weekday     731 non-null    int64         \n",
      " 7   workingday  731 non-null    int64         \n",
      " 8   weathersit  731 non-null    int64         \n",
      " 9   temp        731 non-null    float64       \n",
      " 10  atemp       731 non-null    float64       \n",
      " 11  hum         731 non-null    float64       \n",
      " 12  windspeed   731 non-null    float64       \n",
      " 13  casual      731 non-null    int64         \n",
      " 14  registered  731 non-null    int64         \n",
      " 15  cnt         731 non-null    int64         \n",
      "dtypes: datetime64[ns](1), float64(4), int64(11)\n",
      "memory usage: 91.5 KB\n"
     ]
    }
   ],
   "source": [
    "day_df.info()"
   ]
  },
  {
   "cell_type": "markdown",
   "metadata": {},
   "source": [
    "***insight :***\n",
    "- dari info() terlihat bahwa dteday berhasil di ubah menjadi tipedata **datetime**"
   ]
  },
  {
   "cell_type": "markdown",
   "metadata": {},
   "source": [
    "#### Cleaning day_df kolom dtday dari tipe data \"object\" ke \"datetime\""
   ]
  },
  {
   "cell_type": "code",
   "execution_count": 36,
   "metadata": {},
   "outputs": [],
   "source": [
    "datetime_columns = [\"dteday\"]\n",
    "\n",
    "for column in datetime_columns:\n",
    "  hour_df[column] = pd.to_datetime(hour_df[column])"
   ]
  },
  {
   "cell_type": "markdown",
   "metadata": {},
   "source": [
    "Memeriksa kembali informasi dteday pada tabel hour_df"
   ]
  },
  {
   "cell_type": "code",
   "execution_count": 39,
   "metadata": {},
   "outputs": [
    {
     "name": "stdout",
     "output_type": "stream",
     "text": [
      "<class 'pandas.core.frame.DataFrame'>\n",
      "RangeIndex: 17379 entries, 0 to 17378\n",
      "Data columns (total 17 columns):\n",
      " #   Column      Non-Null Count  Dtype         \n",
      "---  ------      --------------  -----         \n",
      " 0   instant     17379 non-null  int64         \n",
      " 1   dteday      17379 non-null  datetime64[ns]\n",
      " 2   season      17379 non-null  int64         \n",
      " 3   yr          17379 non-null  int64         \n",
      " 4   mnth        17379 non-null  int64         \n",
      " 5   hr          17379 non-null  int64         \n",
      " 6   holiday     17379 non-null  int64         \n",
      " 7   weekday     17379 non-null  int64         \n",
      " 8   workingday  17379 non-null  int64         \n",
      " 9   weathersit  17379 non-null  int64         \n",
      " 10  temp        17379 non-null  float64       \n",
      " 11  atemp       17379 non-null  float64       \n",
      " 12  hum         17379 non-null  float64       \n",
      " 13  windspeed   17379 non-null  float64       \n",
      " 14  casual      17379 non-null  int64         \n",
      " 15  registered  17379 non-null  int64         \n",
      " 16  cnt         17379 non-null  int64         \n",
      "dtypes: datetime64[ns](1), float64(4), int64(12)\n",
      "memory usage: 2.3 MB\n"
     ]
    }
   ],
   "source": [
    "hour_df.info()"
   ]
  },
  {
   "cell_type": "markdown",
   "metadata": {},
   "source": [
    "***insight :***\n",
    "- dari info() terlihat bahwa dteday berhasil di ubah menjadi tipedata **datetime**"
   ]
  },
  {
   "cell_type": "markdown",
   "metadata": {
    "id": "gp-Y6wU38DC1"
   },
   "source": [
    "## Exploratory Data Analysis (EDA)"
   ]
  },
  {
   "cell_type": "markdown",
   "metadata": {
    "id": "MW7WF2kr8DC1"
   },
   "source": [
    "### Explore data day_df\n",
    "Pertama, mencari data yang akan digunakan untuk keperluan menemukan jawaban dari pertanyaan yang sudah di sebutkan di atas.\n",
    "\n",
    "pertama, lakukan menggunakan method describe() untuk melihat seluruh data yang ada"
   ]
  },
  {
   "cell_type": "code",
   "execution_count": 44,
   "metadata": {
    "id": "e9CQCZjk8DC2"
   },
   "outputs": [
    {
     "data": {
      "text/html": [
       "<div>\n",
       "<style scoped>\n",
       "    .dataframe tbody tr th:only-of-type {\n",
       "        vertical-align: middle;\n",
       "    }\n",
       "\n",
       "    .dataframe tbody tr th {\n",
       "        vertical-align: top;\n",
       "    }\n",
       "\n",
       "    .dataframe thead th {\n",
       "        text-align: right;\n",
       "    }\n",
       "</style>\n",
       "<table border=\"1\" class=\"dataframe\">\n",
       "  <thead>\n",
       "    <tr style=\"text-align: right;\">\n",
       "      <th></th>\n",
       "      <th>instant</th>\n",
       "      <th>dteday</th>\n",
       "      <th>season</th>\n",
       "      <th>yr</th>\n",
       "      <th>mnth</th>\n",
       "      <th>holiday</th>\n",
       "      <th>weekday</th>\n",
       "      <th>workingday</th>\n",
       "      <th>weathersit</th>\n",
       "      <th>temp</th>\n",
       "      <th>atemp</th>\n",
       "      <th>hum</th>\n",
       "      <th>windspeed</th>\n",
       "      <th>casual</th>\n",
       "      <th>registered</th>\n",
       "      <th>cnt</th>\n",
       "    </tr>\n",
       "  </thead>\n",
       "  <tbody>\n",
       "    <tr>\n",
       "      <th>count</th>\n",
       "      <td>731.000000</td>\n",
       "      <td>731</td>\n",
       "      <td>731.000000</td>\n",
       "      <td>731.000000</td>\n",
       "      <td>731.000000</td>\n",
       "      <td>731.000000</td>\n",
       "      <td>731.000000</td>\n",
       "      <td>731.000000</td>\n",
       "      <td>731.000000</td>\n",
       "      <td>731.000000</td>\n",
       "      <td>731.000000</td>\n",
       "      <td>731.000000</td>\n",
       "      <td>731.000000</td>\n",
       "      <td>731.000000</td>\n",
       "      <td>731.000000</td>\n",
       "      <td>731.000000</td>\n",
       "    </tr>\n",
       "    <tr>\n",
       "      <th>mean</th>\n",
       "      <td>366.000000</td>\n",
       "      <td>2012-01-01 00:00:00</td>\n",
       "      <td>2.496580</td>\n",
       "      <td>0.500684</td>\n",
       "      <td>6.519836</td>\n",
       "      <td>0.028728</td>\n",
       "      <td>2.997264</td>\n",
       "      <td>0.683995</td>\n",
       "      <td>1.395349</td>\n",
       "      <td>0.495385</td>\n",
       "      <td>0.474354</td>\n",
       "      <td>0.627894</td>\n",
       "      <td>0.190486</td>\n",
       "      <td>848.176471</td>\n",
       "      <td>3656.172367</td>\n",
       "      <td>4504.348837</td>\n",
       "    </tr>\n",
       "    <tr>\n",
       "      <th>min</th>\n",
       "      <td>1.000000</td>\n",
       "      <td>2011-01-01 00:00:00</td>\n",
       "      <td>1.000000</td>\n",
       "      <td>0.000000</td>\n",
       "      <td>1.000000</td>\n",
       "      <td>0.000000</td>\n",
       "      <td>0.000000</td>\n",
       "      <td>0.000000</td>\n",
       "      <td>1.000000</td>\n",
       "      <td>0.059130</td>\n",
       "      <td>0.079070</td>\n",
       "      <td>0.000000</td>\n",
       "      <td>0.022392</td>\n",
       "      <td>2.000000</td>\n",
       "      <td>20.000000</td>\n",
       "      <td>22.000000</td>\n",
       "    </tr>\n",
       "    <tr>\n",
       "      <th>25%</th>\n",
       "      <td>183.500000</td>\n",
       "      <td>2011-07-02 12:00:00</td>\n",
       "      <td>2.000000</td>\n",
       "      <td>0.000000</td>\n",
       "      <td>4.000000</td>\n",
       "      <td>0.000000</td>\n",
       "      <td>1.000000</td>\n",
       "      <td>0.000000</td>\n",
       "      <td>1.000000</td>\n",
       "      <td>0.337083</td>\n",
       "      <td>0.337842</td>\n",
       "      <td>0.520000</td>\n",
       "      <td>0.134950</td>\n",
       "      <td>315.500000</td>\n",
       "      <td>2497.000000</td>\n",
       "      <td>3152.000000</td>\n",
       "    </tr>\n",
       "    <tr>\n",
       "      <th>50%</th>\n",
       "      <td>366.000000</td>\n",
       "      <td>2012-01-01 00:00:00</td>\n",
       "      <td>3.000000</td>\n",
       "      <td>1.000000</td>\n",
       "      <td>7.000000</td>\n",
       "      <td>0.000000</td>\n",
       "      <td>3.000000</td>\n",
       "      <td>1.000000</td>\n",
       "      <td>1.000000</td>\n",
       "      <td>0.498333</td>\n",
       "      <td>0.486733</td>\n",
       "      <td>0.626667</td>\n",
       "      <td>0.180975</td>\n",
       "      <td>713.000000</td>\n",
       "      <td>3662.000000</td>\n",
       "      <td>4548.000000</td>\n",
       "    </tr>\n",
       "    <tr>\n",
       "      <th>75%</th>\n",
       "      <td>548.500000</td>\n",
       "      <td>2012-07-01 12:00:00</td>\n",
       "      <td>3.000000</td>\n",
       "      <td>1.000000</td>\n",
       "      <td>10.000000</td>\n",
       "      <td>0.000000</td>\n",
       "      <td>5.000000</td>\n",
       "      <td>1.000000</td>\n",
       "      <td>2.000000</td>\n",
       "      <td>0.655417</td>\n",
       "      <td>0.608602</td>\n",
       "      <td>0.730209</td>\n",
       "      <td>0.233214</td>\n",
       "      <td>1096.000000</td>\n",
       "      <td>4776.500000</td>\n",
       "      <td>5956.000000</td>\n",
       "    </tr>\n",
       "    <tr>\n",
       "      <th>max</th>\n",
       "      <td>731.000000</td>\n",
       "      <td>2012-12-31 00:00:00</td>\n",
       "      <td>4.000000</td>\n",
       "      <td>1.000000</td>\n",
       "      <td>12.000000</td>\n",
       "      <td>1.000000</td>\n",
       "      <td>6.000000</td>\n",
       "      <td>1.000000</td>\n",
       "      <td>3.000000</td>\n",
       "      <td>0.861667</td>\n",
       "      <td>0.840896</td>\n",
       "      <td>0.972500</td>\n",
       "      <td>0.507463</td>\n",
       "      <td>3410.000000</td>\n",
       "      <td>6946.000000</td>\n",
       "      <td>8714.000000</td>\n",
       "    </tr>\n",
       "    <tr>\n",
       "      <th>std</th>\n",
       "      <td>211.165812</td>\n",
       "      <td>NaN</td>\n",
       "      <td>1.110807</td>\n",
       "      <td>0.500342</td>\n",
       "      <td>3.451913</td>\n",
       "      <td>0.167155</td>\n",
       "      <td>2.004787</td>\n",
       "      <td>0.465233</td>\n",
       "      <td>0.544894</td>\n",
       "      <td>0.183051</td>\n",
       "      <td>0.162961</td>\n",
       "      <td>0.142429</td>\n",
       "      <td>0.077498</td>\n",
       "      <td>686.622488</td>\n",
       "      <td>1560.256377</td>\n",
       "      <td>1937.211452</td>\n",
       "    </tr>\n",
       "  </tbody>\n",
       "</table>\n",
       "</div>"
      ],
      "text/plain": [
       "          instant               dteday      season          yr        mnth  \\\n",
       "count  731.000000                  731  731.000000  731.000000  731.000000   \n",
       "mean   366.000000  2012-01-01 00:00:00    2.496580    0.500684    6.519836   \n",
       "min      1.000000  2011-01-01 00:00:00    1.000000    0.000000    1.000000   \n",
       "25%    183.500000  2011-07-02 12:00:00    2.000000    0.000000    4.000000   \n",
       "50%    366.000000  2012-01-01 00:00:00    3.000000    1.000000    7.000000   \n",
       "75%    548.500000  2012-07-01 12:00:00    3.000000    1.000000   10.000000   \n",
       "max    731.000000  2012-12-31 00:00:00    4.000000    1.000000   12.000000   \n",
       "std    211.165812                  NaN    1.110807    0.500342    3.451913   \n",
       "\n",
       "          holiday     weekday  workingday  weathersit        temp       atemp  \\\n",
       "count  731.000000  731.000000  731.000000  731.000000  731.000000  731.000000   \n",
       "mean     0.028728    2.997264    0.683995    1.395349    0.495385    0.474354   \n",
       "min      0.000000    0.000000    0.000000    1.000000    0.059130    0.079070   \n",
       "25%      0.000000    1.000000    0.000000    1.000000    0.337083    0.337842   \n",
       "50%      0.000000    3.000000    1.000000    1.000000    0.498333    0.486733   \n",
       "75%      0.000000    5.000000    1.000000    2.000000    0.655417    0.608602   \n",
       "max      1.000000    6.000000    1.000000    3.000000    0.861667    0.840896   \n",
       "std      0.167155    2.004787    0.465233    0.544894    0.183051    0.162961   \n",
       "\n",
       "              hum   windspeed       casual   registered          cnt  \n",
       "count  731.000000  731.000000   731.000000   731.000000   731.000000  \n",
       "mean     0.627894    0.190486   848.176471  3656.172367  4504.348837  \n",
       "min      0.000000    0.022392     2.000000    20.000000    22.000000  \n",
       "25%      0.520000    0.134950   315.500000  2497.000000  3152.000000  \n",
       "50%      0.626667    0.180975   713.000000  3662.000000  4548.000000  \n",
       "75%      0.730209    0.233214  1096.000000  4776.500000  5956.000000  \n",
       "max      0.972500    0.507463  3410.000000  6946.000000  8714.000000  \n",
       "std      0.142429    0.077498   686.622488  1560.256377  1937.211452  "
      ]
     },
     "execution_count": 44,
     "metadata": {},
     "output_type": "execute_result"
    }
   ],
   "source": [
    "day_df.describe(include=\"all\")"
   ]
  },
  {
   "cell_type": "markdown",
   "metadata": {},
   "source": [
    "##### Melihat distribusi kondisi cuaca"
   ]
  },
  {
   "cell_type": "markdown",
   "metadata": {
    "id": "th_Lzl2Fkj9O"
   },
   "source": [
    "Kita akan berfokus pada kolom weathersit, temp, hum, windspeed, dan cnt menggunakan fungsi `value_counts()` untuk mengetahui pengaruh cuaca terhadap penyewaan"
   ]
  },
  {
   "cell_type": "code",
   "execution_count": 48,
   "metadata": {},
   "outputs": [
    {
     "name": "stdout",
     "output_type": "stream",
     "text": [
      "weathersit\n",
      "1    463\n",
      "2    247\n",
      "3     21\n",
      "Name: count, dtype: int64\n"
     ]
    }
   ],
   "source": [
    "print(day_df['weathersit'].value_counts())"
   ]
  },
  {
   "cell_type": "markdown",
   "metadata": {},
   "source": [
    "***insight :***\n",
    "dari sini kita dapat melihat dengan kondisi \n",
    "1: Cerah, \n",
    "2: Mendung, \n",
    "3: Hujan, \n",
    "4: Hujan deras\n",
    "\n",
    "maka penyewaan sepeda sangat dipengaruhi oleh cuaca dimana cuaca **cerah** menempati posisi tertinggi dalam penyewaan sepeda disusul dengan **mendung** dan **hujan**, dan juga pada saat **hujan deras** tidak ada orang yang menyewa sepeda"
   ]
  },
  {
   "cell_type": "markdown",
   "metadata": {},
   "source": [
    "##### Melihat Rata-rata penyewaan sepeda berdasarkan kondisi cuaca"
   ]
  },
  {
   "cell_type": "code",
   "execution_count": 52,
   "metadata": {},
   "outputs": [
    {
     "name": "stdout",
     "output_type": "stream",
     "text": [
      "weathersit\n",
      "1    4876.786177\n",
      "2    4035.862348\n",
      "3    1803.285714\n",
      "Name: cnt, dtype: float64\n"
     ]
    }
   ],
   "source": [
    "avg_rentals_by_weather = day_df.groupby('weathersit')['cnt'].mean()\n",
    "print(avg_rentals_by_weather)"
   ]
  },
  {
   "cell_type": "markdown",
   "metadata": {},
   "source": [
    "***insight :***\n",
    "\n",
    "Data tersebut menunjukkan rata-rata jumlah sewa `(cnt)` berdasarkan kategori cuaca `(weathersit)`. \n",
    "**cuaca cerah** memiliki jumlah sewa tertinggi. \n",
    "diikuti oleh **cuaca mendung** dan **cuaca hujan**. \n",
    "\n",
    "yang menunjukkan bahwa cuaca yang lebih baik cenderung mendorong lebih banyak penyewaan"
   ]
  },
  {
   "cell_type": "markdown",
   "metadata": {},
   "source": [
    "##### Membuat fungsi Rata-rata penyewaan sepeda berdasarkan suhu, kelembaban, dan kecepatan angin"
   ]
  },
  {
   "cell_type": "code",
   "execution_count": 56,
   "metadata": {},
   "outputs": [
    {
     "name": "stdout",
     "output_type": "stream",
     "text": [
      "rata rata penyewaan sepeda berdasarkan suhu            : temp\n",
      "0.601667    8362.0\n",
      "0.600000    8294.0\n",
      "0.610000    8227.0\n",
      "0.633333    8009.0\n",
      "0.529167    7907.0\n",
      "0.583333    7822.5\n",
      "0.695833    7765.0\n",
      "0.546667    7720.0\n",
      "0.608333    7702.5\n",
      "0.587500    7693.0\n",
      "Name: cnt, dtype: float64\n",
      "rata rata penyewaan sepeda berdasarkan kelembapan      : hum\n",
      "0.501667    8714.0\n",
      "0.542917    8555.0\n",
      "0.627500    8156.0\n",
      "0.572917    8090.0\n",
      "0.672500    8009.0\n",
      "0.467083    7907.0\n",
      "0.603333    7865.0\n",
      "0.720000    7852.0\n",
      "0.755833    7836.0\n",
      "0.637083    7804.0\n",
      "Name: cnt, dtype: float64\n",
      "rata rata penyewaan sepeda berdasarkan kecepatan angin : windspeed\n",
      "0.247521    8714.0\n",
      "0.227604    8555.0\n",
      "0.283583    8395.0\n",
      "0.116300    8362.0\n",
      "0.083975    8294.0\n",
      "0.164800    8173.0\n",
      "0.154229    8167.0\n",
      "0.186562    8120.0\n",
      "0.117537    8090.0\n",
      "0.103863    8009.0\n",
      "Name: cnt, dtype: float64\n"
     ]
    }
   ],
   "source": [
    "avg_rentals_by_temp = day_df.groupby('temp')['cnt'].mean().nlargest(10)\n",
    "avg_rentals_by_humidity = day_df.groupby('hum')['cnt'].mean().nlargest(10)\n",
    "avg_rentals_by_windspeed = day_df.groupby('windspeed')['cnt'].mean().nlargest(10)\n",
    "\n",
    "print(\"rata rata penyewaan sepeda berdasarkan suhu            :\", avg_rentals_by_temp)\n",
    "print(\"rata rata penyewaan sepeda berdasarkan kelembapan      :\", avg_rentals_by_humidity)\n",
    "print(\"rata rata penyewaan sepeda berdasarkan kecepatan angin :\", avg_rentals_by_windspeed)"
   ]
  },
  {
   "cell_type": "markdown",
   "metadata": {},
   "source": [
    "***insight :***\n",
    "\n",
    "pada rata - rata penyewaan terhadap suhu\n",
    "- Terdapat tren positif yang jelas, di mana penyewaan sepeda meningkat seiring dengan kenaikan suhu. Suhu yang lebih tinggi, seperti 0.601667, menghasilkan penyewaan yang mencapai 8362 unit, menunjukkan bahwa orang lebih cenderung menyewa sepeda saat cuaca hangat.\n",
    "\n",
    "pada rata - rata penyewaan terhadap kelembapan\n",
    "- Penyewaan sepeda menunjukkan variasi yang signifikan dengan kelembapan. Pada kelembapan sangat rendah (0.467083), penyewaan hanya mencapai 7907 unit, tetapi meningkat pada kelembapan sekitar 0.542917 menjadi 8555 unit. Namun, setelah mencapai puncak, penurunan terjadi pada kelembapan yang lebih tinggi, mengindikasikan bahwa kelembapan tinggi dapat mengurangi minat untuk bersepeda.\n",
    "\n",
    "pada rata - rata penyewaan terhadap kecepatan angin\n",
    "- Penyewaan sepeda relatif tinggi pada kecepatan angin rendah, dengan puncak mencapai 8714 unit pada kecepatan 0.247521. Meskipun ada fluktuasi, penyewaan tidak menunjukkan penurunan tajam pada kecepatan angin yang lebih tinggi, menunjukkan bahwa pengguna mungkin cukup toleran terhadap kondisi berangin."
   ]
  },
  {
   "cell_type": "markdown",
   "metadata": {},
   "source": [
    "##### Analisis Perbedaan Penyewaan Sepeda antara Hari Kerja dan Akhir Pekan"
   ]
  },
  {
   "cell_type": "markdown",
   "metadata": {},
   "source": [
    "Rata-rata penyewaan sepeda berdasarkan hari kerja dan akhir pekan"
   ]
  },
  {
   "cell_type": "code",
   "execution_count": 61,
   "metadata": {},
   "outputs": [
    {
     "name": "stdout",
     "output_type": "stream",
     "text": [
      "workingday\n",
      "0    4330.168831\n",
      "1    4584.820000\n",
      "Name: cnt, dtype: float64\n"
     ]
    }
   ],
   "source": [
    "avg_rentals_by_workingday = day_df.groupby('workingday')['cnt'].mean()\n",
    "print(avg_rentals_by_workingday)"
   ]
  },
  {
   "cell_type": "markdown",
   "metadata": {},
   "source": [
    "***insight :***\n",
    "\n",
    "- Rata-rata penyewaan pada hari kerja (working day = 1) adalah 4584.82 unit, sedangkan pada non-hari kerja (working day = 0) adalah 4330.17 unit.\n",
    "- pada data ini dapat disimpulkan bahwa penyewaan lebih tinggi pada hari kerja, tetapi perbedaannya tidak terlalu signifikan menunjukan bahwa pada akhir pekan orang masih aktif menggunakan sepeda"
   ]
  },
  {
   "cell_type": "markdown",
   "metadata": {},
   "source": [
    "Jumlah penyewaan sepeda pada setiap hari dalam seminggu"
   ]
  },
  {
   "cell_type": "code",
   "execution_count": 65,
   "metadata": {},
   "outputs": [
    {
     "name": "stdout",
     "output_type": "stream",
     "text": [
      "weekday\n",
      "0    4228.828571\n",
      "1    4338.123810\n",
      "2    4510.663462\n",
      "3    4548.538462\n",
      "4    4667.259615\n",
      "5    4690.288462\n",
      "6    4550.542857\n",
      "Name: cnt, dtype: float64\n"
     ]
    }
   ],
   "source": [
    "rentals_by_weekday = day_df.groupby('weekday')['cnt'].mean()\n",
    "print(rentals_by_weekday)"
   ]
  },
  {
   "cell_type": "markdown",
   "metadata": {},
   "source": [
    "***insight :***\n",
    "- Penyewaan tertinggi terjadi pada hari Sabtu (4690.29) dan Minggu (4550.54), menunjukkan bahwa akhir pekan menjadi waktu yang populer untuk bersepeda.\n",
    "- pada data ini juga kita bisa beasumsi bahwa pada hari hari menjelang weekend pada hari kamis dan jum'at utamanya penjualan sepeda meningkat, Hari kamis dan jum'at menampilkan angka yang cukup tinggi, mungkin terjadi karena adanya kegiatan sosial yang banyak dilakukan diluar ruangan."
   ]
  },
  {
   "cell_type": "markdown",
   "metadata": {},
   "source": [
    "### Explore data hour_df\n",
    "Pertama, mencari data yang akan digunakan untuk keperluan menemukan jawaban dari pertanyaan yang sudah di sebutkan di atas.\n",
    "\n",
    "pertama, lakukan menggunakan method describe() untuk melihat seluruh data yang ada"
   ]
  },
  {
   "cell_type": "code",
   "execution_count": 69,
   "metadata": {},
   "outputs": [
    {
     "data": {
      "text/html": [
       "<div>\n",
       "<style scoped>\n",
       "    .dataframe tbody tr th:only-of-type {\n",
       "        vertical-align: middle;\n",
       "    }\n",
       "\n",
       "    .dataframe tbody tr th {\n",
       "        vertical-align: top;\n",
       "    }\n",
       "\n",
       "    .dataframe thead th {\n",
       "        text-align: right;\n",
       "    }\n",
       "</style>\n",
       "<table border=\"1\" class=\"dataframe\">\n",
       "  <thead>\n",
       "    <tr style=\"text-align: right;\">\n",
       "      <th></th>\n",
       "      <th>instant</th>\n",
       "      <th>dteday</th>\n",
       "      <th>season</th>\n",
       "      <th>yr</th>\n",
       "      <th>mnth</th>\n",
       "      <th>hr</th>\n",
       "      <th>holiday</th>\n",
       "      <th>weekday</th>\n",
       "      <th>workingday</th>\n",
       "      <th>weathersit</th>\n",
       "      <th>temp</th>\n",
       "      <th>atemp</th>\n",
       "      <th>hum</th>\n",
       "      <th>windspeed</th>\n",
       "      <th>casual</th>\n",
       "      <th>registered</th>\n",
       "      <th>cnt</th>\n",
       "    </tr>\n",
       "  </thead>\n",
       "  <tbody>\n",
       "    <tr>\n",
       "      <th>count</th>\n",
       "      <td>17379.0000</td>\n",
       "      <td>17379</td>\n",
       "      <td>17379.000000</td>\n",
       "      <td>17379.000000</td>\n",
       "      <td>17379.000000</td>\n",
       "      <td>17379.000000</td>\n",
       "      <td>17379.000000</td>\n",
       "      <td>17379.000000</td>\n",
       "      <td>17379.000000</td>\n",
       "      <td>17379.000000</td>\n",
       "      <td>17379.000000</td>\n",
       "      <td>17379.000000</td>\n",
       "      <td>17379.000000</td>\n",
       "      <td>17379.000000</td>\n",
       "      <td>17379.000000</td>\n",
       "      <td>17379.000000</td>\n",
       "      <td>17379.000000</td>\n",
       "    </tr>\n",
       "    <tr>\n",
       "      <th>mean</th>\n",
       "      <td>8690.0000</td>\n",
       "      <td>2012-01-02 04:08:34.552045568</td>\n",
       "      <td>2.501640</td>\n",
       "      <td>0.502561</td>\n",
       "      <td>6.537775</td>\n",
       "      <td>11.546752</td>\n",
       "      <td>0.028770</td>\n",
       "      <td>3.003683</td>\n",
       "      <td>0.682721</td>\n",
       "      <td>1.425283</td>\n",
       "      <td>0.496987</td>\n",
       "      <td>0.475775</td>\n",
       "      <td>0.627229</td>\n",
       "      <td>0.190098</td>\n",
       "      <td>35.676218</td>\n",
       "      <td>153.786869</td>\n",
       "      <td>189.463088</td>\n",
       "    </tr>\n",
       "    <tr>\n",
       "      <th>min</th>\n",
       "      <td>1.0000</td>\n",
       "      <td>2011-01-01 00:00:00</td>\n",
       "      <td>1.000000</td>\n",
       "      <td>0.000000</td>\n",
       "      <td>1.000000</td>\n",
       "      <td>0.000000</td>\n",
       "      <td>0.000000</td>\n",
       "      <td>0.000000</td>\n",
       "      <td>0.000000</td>\n",
       "      <td>1.000000</td>\n",
       "      <td>0.020000</td>\n",
       "      <td>0.000000</td>\n",
       "      <td>0.000000</td>\n",
       "      <td>0.000000</td>\n",
       "      <td>0.000000</td>\n",
       "      <td>0.000000</td>\n",
       "      <td>1.000000</td>\n",
       "    </tr>\n",
       "    <tr>\n",
       "      <th>25%</th>\n",
       "      <td>4345.5000</td>\n",
       "      <td>2011-07-04 00:00:00</td>\n",
       "      <td>2.000000</td>\n",
       "      <td>0.000000</td>\n",
       "      <td>4.000000</td>\n",
       "      <td>6.000000</td>\n",
       "      <td>0.000000</td>\n",
       "      <td>1.000000</td>\n",
       "      <td>0.000000</td>\n",
       "      <td>1.000000</td>\n",
       "      <td>0.340000</td>\n",
       "      <td>0.333300</td>\n",
       "      <td>0.480000</td>\n",
       "      <td>0.104500</td>\n",
       "      <td>4.000000</td>\n",
       "      <td>34.000000</td>\n",
       "      <td>40.000000</td>\n",
       "    </tr>\n",
       "    <tr>\n",
       "      <th>50%</th>\n",
       "      <td>8690.0000</td>\n",
       "      <td>2012-01-02 00:00:00</td>\n",
       "      <td>3.000000</td>\n",
       "      <td>1.000000</td>\n",
       "      <td>7.000000</td>\n",
       "      <td>12.000000</td>\n",
       "      <td>0.000000</td>\n",
       "      <td>3.000000</td>\n",
       "      <td>1.000000</td>\n",
       "      <td>1.000000</td>\n",
       "      <td>0.500000</td>\n",
       "      <td>0.484800</td>\n",
       "      <td>0.630000</td>\n",
       "      <td>0.194000</td>\n",
       "      <td>17.000000</td>\n",
       "      <td>115.000000</td>\n",
       "      <td>142.000000</td>\n",
       "    </tr>\n",
       "    <tr>\n",
       "      <th>75%</th>\n",
       "      <td>13034.5000</td>\n",
       "      <td>2012-07-02 00:00:00</td>\n",
       "      <td>3.000000</td>\n",
       "      <td>1.000000</td>\n",
       "      <td>10.000000</td>\n",
       "      <td>18.000000</td>\n",
       "      <td>0.000000</td>\n",
       "      <td>5.000000</td>\n",
       "      <td>1.000000</td>\n",
       "      <td>2.000000</td>\n",
       "      <td>0.660000</td>\n",
       "      <td>0.621200</td>\n",
       "      <td>0.780000</td>\n",
       "      <td>0.253700</td>\n",
       "      <td>48.000000</td>\n",
       "      <td>220.000000</td>\n",
       "      <td>281.000000</td>\n",
       "    </tr>\n",
       "    <tr>\n",
       "      <th>max</th>\n",
       "      <td>17379.0000</td>\n",
       "      <td>2012-12-31 00:00:00</td>\n",
       "      <td>4.000000</td>\n",
       "      <td>1.000000</td>\n",
       "      <td>12.000000</td>\n",
       "      <td>23.000000</td>\n",
       "      <td>1.000000</td>\n",
       "      <td>6.000000</td>\n",
       "      <td>1.000000</td>\n",
       "      <td>4.000000</td>\n",
       "      <td>1.000000</td>\n",
       "      <td>1.000000</td>\n",
       "      <td>1.000000</td>\n",
       "      <td>0.850700</td>\n",
       "      <td>367.000000</td>\n",
       "      <td>886.000000</td>\n",
       "      <td>977.000000</td>\n",
       "    </tr>\n",
       "    <tr>\n",
       "      <th>std</th>\n",
       "      <td>5017.0295</td>\n",
       "      <td>NaN</td>\n",
       "      <td>1.106918</td>\n",
       "      <td>0.500008</td>\n",
       "      <td>3.438776</td>\n",
       "      <td>6.914405</td>\n",
       "      <td>0.167165</td>\n",
       "      <td>2.005771</td>\n",
       "      <td>0.465431</td>\n",
       "      <td>0.639357</td>\n",
       "      <td>0.192556</td>\n",
       "      <td>0.171850</td>\n",
       "      <td>0.192930</td>\n",
       "      <td>0.122340</td>\n",
       "      <td>49.305030</td>\n",
       "      <td>151.357286</td>\n",
       "      <td>181.387599</td>\n",
       "    </tr>\n",
       "  </tbody>\n",
       "</table>\n",
       "</div>"
      ],
      "text/plain": [
       "          instant                         dteday        season            yr  \\\n",
       "count  17379.0000                          17379  17379.000000  17379.000000   \n",
       "mean    8690.0000  2012-01-02 04:08:34.552045568      2.501640      0.502561   \n",
       "min        1.0000            2011-01-01 00:00:00      1.000000      0.000000   \n",
       "25%     4345.5000            2011-07-04 00:00:00      2.000000      0.000000   \n",
       "50%     8690.0000            2012-01-02 00:00:00      3.000000      1.000000   \n",
       "75%    13034.5000            2012-07-02 00:00:00      3.000000      1.000000   \n",
       "max    17379.0000            2012-12-31 00:00:00      4.000000      1.000000   \n",
       "std     5017.0295                            NaN      1.106918      0.500008   \n",
       "\n",
       "               mnth            hr       holiday       weekday    workingday  \\\n",
       "count  17379.000000  17379.000000  17379.000000  17379.000000  17379.000000   \n",
       "mean       6.537775     11.546752      0.028770      3.003683      0.682721   \n",
       "min        1.000000      0.000000      0.000000      0.000000      0.000000   \n",
       "25%        4.000000      6.000000      0.000000      1.000000      0.000000   \n",
       "50%        7.000000     12.000000      0.000000      3.000000      1.000000   \n",
       "75%       10.000000     18.000000      0.000000      5.000000      1.000000   \n",
       "max       12.000000     23.000000      1.000000      6.000000      1.000000   \n",
       "std        3.438776      6.914405      0.167165      2.005771      0.465431   \n",
       "\n",
       "         weathersit          temp         atemp           hum     windspeed  \\\n",
       "count  17379.000000  17379.000000  17379.000000  17379.000000  17379.000000   \n",
       "mean       1.425283      0.496987      0.475775      0.627229      0.190098   \n",
       "min        1.000000      0.020000      0.000000      0.000000      0.000000   \n",
       "25%        1.000000      0.340000      0.333300      0.480000      0.104500   \n",
       "50%        1.000000      0.500000      0.484800      0.630000      0.194000   \n",
       "75%        2.000000      0.660000      0.621200      0.780000      0.253700   \n",
       "max        4.000000      1.000000      1.000000      1.000000      0.850700   \n",
       "std        0.639357      0.192556      0.171850      0.192930      0.122340   \n",
       "\n",
       "             casual    registered           cnt  \n",
       "count  17379.000000  17379.000000  17379.000000  \n",
       "mean      35.676218    153.786869    189.463088  \n",
       "min        0.000000      0.000000      1.000000  \n",
       "25%        4.000000     34.000000     40.000000  \n",
       "50%       17.000000    115.000000    142.000000  \n",
       "75%       48.000000    220.000000    281.000000  \n",
       "max      367.000000    886.000000    977.000000  \n",
       "std       49.305030    151.357286    181.387599  "
      ]
     },
     "execution_count": 69,
     "metadata": {},
     "output_type": "execute_result"
    }
   ],
   "source": [
    "hour_df.describe(include=\"all\")"
   ]
  },
  {
   "cell_type": "markdown",
   "metadata": {},
   "source": [
    "##### Analisis Pola Penyewaan Sepeda per Jam dan Perbedaan antara Hari Kerja dan Akhir Pekan"
   ]
  },
  {
   "cell_type": "markdown",
   "metadata": {},
   "source": [
    "mencari pola penyewaan sepeda menggunakan `mean`"
   ]
  },
  {
   "cell_type": "code",
   "execution_count": 73,
   "metadata": {},
   "outputs": [
    {
     "name": "stdout",
     "output_type": "stream",
     "text": [
      "hr\n",
      "19    311.523352\n",
      "16    311.983562\n",
      "8     359.011004\n",
      "18    425.510989\n",
      "17    461.452055\n",
      "Name: cnt, dtype: float64\n"
     ]
    }
   ],
   "source": [
    "avg_rentals_by_hour = hour_df.groupby('hr')['cnt'].mean().nlargest(5).sort_values()\n",
    "print(avg_rentals_by_hour)"
   ]
  },
  {
   "cell_type": "markdown",
   "metadata": {},
   "source": [
    "***insight :***\n",
    "- waktu dengan Jam penyewaan tertinggi dengan menggunakan fungsi nlargest() menunjukan bahwa jam keberangkatan kerja pagi (**pukul 8**) mencapai 359 unit. dan juga untuk jam pulang kerja dimulai dari **Pukul 4** sore hingga **Pukul 6** sore menunjukan banyaknya peyewaan sepeda pada jam pulang kerja. ini dapat digunakan untuk mempromosikan penyewaan sepeda pada jam jam keberangkatan dan kepulangan kerja untuk mendongkrak penjualan dan marketing."
   ]
  },
  {
   "cell_type": "markdown",
   "metadata": {},
   "source": [
    "##### Rata-rata penyewaan sepeda pada jam tertentu berdasarkan hari kerja dan bukan hari kerja"
   ]
  },
  {
   "cell_type": "code",
   "execution_count": 77,
   "metadata": {},
   "outputs": [
    {
     "name": "stdout",
     "output_type": "stream",
     "text": [
      "workingday           0           1\n",
      "hr                                \n",
      "0            90.800000   36.786290\n",
      "1            69.508696   16.552632\n",
      "2            53.171053    8.683778\n",
      "3            25.775330    4.942553\n",
      "4             8.264317    5.429787\n",
      "5             8.689189   24.913131\n",
      "6            18.742358  102.500000\n",
      "7            43.406926  290.612903\n",
      "8           105.653680  477.006048\n",
      "9           171.623377  241.518145\n",
      "10          255.909091  135.366935\n",
      "11          315.316017  158.229839\n",
      "12          366.259740  200.820926\n",
      "13          372.731602  198.429719\n",
      "14          364.645022  183.572289\n",
      "15          358.813853  201.331325\n",
      "16          352.727273  293.122244\n",
      "17          323.549784  525.290581\n",
      "18          281.056522  492.226908\n",
      "19          231.673913  348.401606\n",
      "20          174.739130  249.718876\n",
      "21          142.060870  186.287149\n",
      "22          116.060870  138.389558\n",
      "23           85.930435   88.708835\n"
     ]
    }
   ],
   "source": [
    "avg_rentals_by_hour_workingday = hour_df.groupby(['hr', 'workingday'])['cnt'].mean().unstack()\n",
    "print(avg_rentals_by_hour_workingday)"
   ]
  },
  {
   "cell_type": "markdown",
   "metadata": {},
   "source": [
    "***insight :***\n",
    "Perbedaan Penyewaan antara Hari Kerja dan Akhir Pekan:\n",
    "- terlihat pada **jam 8** pagi untuk hari kerja memiliki sekitar penyewaan hingga **477 unit**, namun untuk hari libur kerja hanya sekitar **105 unit** hal ini menandakan pada pagi di hari kerja peminjaman sepeda didominasi oleh pekerja pada hari kerja.\n",
    "- terlihat pula pada jam pulang kerja khususnya **pukul 17** peminjaman sepeda mencapai **525**, angka ini terbilang tinggi dibandingkan dengan jam jam lainnya. hal ini menandakan minat para penyewa sepeda selepas jam pulang kerja jauh lebih banyak pada **pukul 17**\n",
    "- kecenderungan untuk tidak meminjam sepeda pada malam hari pada **pukul 23** hingga **pukul 4** dini hari. "
   ]
  },
  {
   "cell_type": "markdown",
   "metadata": {
    "id": "zsyZjqak8DC2"
   },
   "source": [
    "## Visualization & Explanatory Analysis"
   ]
  },
  {
   "cell_type": "markdown",
   "metadata": {
    "id": "HZxOiQ6n8DC2"
   },
   "source": [
    "### Pertanyaan 1: Bagaimana pengaruh kondisi cuaca terhadap jumlah penyewaan sepeda?"
   ]
  },
  {
   "cell_type": "markdown",
   "metadata": {
    "id": "1swJUdAD8DC2"
   },
   "source": [
    "Untuk menjawab pertanyaan ini, pertama kita akan mengelompokkan berdasarkan kondisi cuaca dan hitung jumlah rata-rata penyewaannya"
   ]
  },
  {
   "cell_type": "code",
   "execution_count": 83,
   "metadata": {},
   "outputs": [],
   "source": [
    "weather_group = day_df.groupby('weathersit')['cnt'].mean().reset_index()"
   ]
  },
  {
   "cell_type": "markdown",
   "metadata": {},
   "source": [
    "Memetakan kondisi cuaca ke label yang dapat dibaca"
   ]
  },
  {
   "cell_type": "code",
   "execution_count": 86,
   "metadata": {},
   "outputs": [],
   "source": [
    "weather_group['weathersit'] = weather_group['weathersit'].map({\n",
    "    1: 'Bersih/sedikit berawan', \n",
    "    2: 'Berawan/Mendung', \n",
    "    3: 'Hujan Ringan/Salju Ringan', \n",
    "    4: 'Hujan Besar/Badai Salju'})"
   ]
  },
  {
   "cell_type": "markdown",
   "metadata": {},
   "source": [
    "Menampilkan dampak cuaca terhadap penyewaan sepeda"
   ]
  },
  {
   "cell_type": "code",
   "execution_count": 89,
   "metadata": {},
   "outputs": [
    {
     "data": {
      "image/png": "[encoded data removed]",
      "text/plain": [
       "<Figure size 1000x600 with 1 Axes>"
      ]
     },
     "metadata": {},
     "output_type": "display_data"
    }
   ],
   "source": [
    "plt.figure(figsize=(10, 6))\n",
    "sns.barplot(x='weathersit', y='cnt', data=weather_group)\n",
    "plt.title('Dampak cuaca pada dataset bike sharing', fontsize=14)\n",
    "plt.xlabel('kondisi cuaca', fontsize=12)\n",
    "plt.ylabel('Rata rata peminjaman', fontsize=12)\n",
    "plt.show()"
   ]
  },
  {
   "cell_type": "markdown",
   "metadata": {},
   "source": [
    "**Insight :**\n",
    "- pada grafik ini Menunjukan bahwa **langit yang cerah dan sedikit berawan** banyak dipilih oleh pelanggan untuk menyewa sepeda, hal ini menunjukan kecenderungan pada **cuaca yang cerah** dan melihat kondisi **cuaca berawan dan mendung** cenderung masih diminati.\n",
    "- Pada hujan ringan ataupun salju ringan masih memiliki peminatan terhadap penyewaan sepeda, berbeda dengan hujan lebat atau hujan salju lebat yang sama sekali tidak diminati. hal ini menjelaskan bahwa ketika **cuaca sedang tidak baik** akan **berdampak pula terhadap layanan bike sharing ini**"
   ]
  },
  {
   "cell_type": "markdown",
   "metadata": {
    "id": "DgHI7CiU8DC2"
   },
   "source": [
    "### Pertanyaan 2: Apakah terdapat perbedaan jumlah penyewaan sepeda antara hari kerja dan hari libur kerja?"
   ]
  },
  {
   "cell_type": "markdown",
   "metadata": {
    "id": "Go0lCsvO8DC2"
   },
   "source": [
    "Untuk menjawab pertanyaan ini pertama kita definisikan terlebih dahulu kategori weekday dan weekend nya"
   ]
  },
  {
   "cell_type": "code",
   "execution_count": 99,
   "metadata": {},
   "outputs": [],
   "source": [
    "day_df['day_type'] = day_df['weekday'].apply(lambda x: 'Weekend' if x in [0, 6] else 'Weekday')"
   ]
  },
  {
   "cell_type": "markdown",
   "metadata": {},
   "source": [
    "kemudian kelompokkan berdasarkan `day_type` (Hari kerja atau akhir pekan) dan hitung rata rata siswa"
   ]
  },
  {
   "cell_type": "code",
   "execution_count": 102,
   "metadata": {},
   "outputs": [],
   "source": [
    "day_type_group = day_df.groupby('day_type')['cnt'].mean().reset_index()"
   ]
  },
  {
   "cell_type": "markdown",
   "metadata": {},
   "source": [
    "Lalu Plotting perbedaan antara penyewa sepeda antara hari kerja dan hari libur"
   ]
  },
  {
   "cell_type": "code",
   "execution_count": 109,
   "metadata": {},
   "outputs": [
    {
     "data": {
      "image/png": "[encoded data removed]",
      "text/plain": [
       "<Figure size 800x500 with 1 Axes>"
      ]
     },
     "metadata": {},
     "output_type": "display_data"
    }
   ],
   "source": [
    "plt.figure(figsize=(8, 5))\n",
    "sns.barplot(x='day_type', y='cnt', data=day_type_group)\n",
    "plt.title('hari kerja vs hari libur', fontsize=14)\n",
    "plt.xlabel('Tipe Hari', fontsize=12)\n",
    "plt.ylabel('Rata rata jumlah sepeda yang disewakan', fontsize=12)\n",
    "plt.show()"
   ]
  },
  {
   "cell_type": "markdown",
   "metadata": {},
   "source": [
    "**Insight :**\n",
    "Perbedaan jumlah sepeda yang disewakan pada weekday dan weekend tidak jauh berbeda, dengan data yang sudah diperoleh sebelumnya maka bisa disimpulkan bahwa kemungkinan **banyaknya pesepeda di hari weekday(hari kerja)** karena **banyaknya orang yang menyewa sepeda pada saat jam jam berangkat kerja** dan **pulang kerja**. hal ini memberikan **pengaruh besar** pada perbandingan antara **hari kerja** dan **hari libur**."
   ]
  },
  {
   "cell_type": "markdown",
   "metadata": {},
   "source": [
    "### Pertanyaan 3: Bagaimana pengaruh kondisi suhu, kelembapan dan kecepatan angin terhadap jumlah penyewaan sepeda?"
   ]
  },
  {
   "cell_type": "markdown",
   "metadata": {},
   "source": [
    "Sebelum itu kita akan mengekstrak terlebih dahulu kolom yang relevan dengan sumber data yaitu \n",
    "- suhu `temp`\n",
    "- kelembapan `hum`\n",
    "- jumlah persewaan `cnt`"
   ]
  },
  {
   "cell_type": "markdown",
   "metadata": {},
   "source": [
    "hubungan antara suhu dan penyewaan sepeda"
   ]
  },
  {
   "cell_type": "code",
   "execution_count": 138,
   "metadata": {},
   "outputs": [
    {
     "data": {
      "text/plain": [
       "Text(0, 0.5, 'unit yang telah di rental')"
      ]
     },
     "execution_count": 138,
     "metadata": {},
     "output_type": "execute_result"
    },
    {
     "data": {
      "image/png": "[encoded data removed]",
      "text/plain": [
       "<Figure size 1800x500 with 1 Axes>"
      ]
     },
     "metadata": {},
     "output_type": "display_data"
    }
   ],
   "source": [
    "plt.figure(figsize=(18, 5))\n",
    "\n",
    "plt.subplot(1, 3, 1)\n",
    "sns.scatterplot(x='temp', y='cnt', data=day_df)\n",
    "sns.regplot(x='temp', y='cnt', data=day_df, scatter=False, color='blue')\n",
    "plt.title('Suhu vs penyewaan sepeda')\n",
    "plt.xlabel('Temperature (Normalized)')\n",
    "plt.ylabel('unit yang telah di rental')"
   ]
  },
  {
   "cell_type": "markdown",
   "metadata": {},
   "source": [
    "hubungan antara kelembaban dan penyewaan sepeda"
   ]
  },
  {
   "cell_type": "code",
   "execution_count": 144,
   "metadata": {},
   "outputs": [
    {
     "data": {
      "text/plain": [
       "Text(0, 0.5, 'Unit yang di rental')"
      ]
     },
     "execution_count": 144,
     "metadata": {},
     "output_type": "execute_result"
    },
    {
     "data": {
      "image/png": "[encoded data removed]",
      "text/plain": [
       "<Figure size 1800x500 with 1 Axes>"
      ]
     },
     "metadata": {},
     "output_type": "display_data"
    }
   ],
   "source": [
    "plt.figure(figsize=(18, 5))\n",
    "\n",
    "plt.subplot(1, 3, 2)\n",
    "sns.scatterplot(x='hum', y='cnt', data=day_df)\n",
    "sns.regplot(x='hum', y='cnt', data=day_df, scatter=False, color='green')\n",
    "plt.title('Kelembapan vs Penyewaan Sepeda')\n",
    "plt.xlabel('Humidity (Kelembapan)')\n",
    "plt.ylabel('Unit yang di rental')"
   ]
  },
  {
   "cell_type": "markdown",
   "metadata": {},
   "source": [
    "hubungan antara kecepatan angin dan penyewaan sepeda"
   ]
  },
  {
   "cell_type": "code",
   "execution_count": 146,
   "metadata": {},
   "outputs": [
    {
     "data": {
      "text/plain": [
       "Text(0, 0.5, 'Unit yang di rental')"
      ]
     },
     "execution_count": 146,
     "metadata": {},
     "output_type": "execute_result"
    },
    {
     "data": {
      "image/png": "[encoded data removed]",
      "text/plain": [
       "<Figure size 1800x500 with 1 Axes>"
      ]
     },
     "metadata": {},
     "output_type": "display_data"
    }
   ],
   "source": [
    "plt.figure(figsize=(18, 5))\n",
    "\n",
    "plt.subplot(1, 3, 3)\n",
    "sns.scatterplot(x='windspeed', y='cnt', data=day_df)\n",
    "sns.regplot(x='windspeed', y='cnt', data=day_df, scatter=False, color='red')\n",
    "plt.title('Kecepatan angin vs Penyewaan Sepeda')\n",
    "plt.xlabel('Kecepatan Angin (Normalized)')\n",
    "plt.ylabel('Unit yang di rental')"
   ]
  },
  {
   "cell_type": "markdown",
   "metadata": {
    "id": "_0-36BDLklRg"
   },
   "source": [
    "**Insight:**\n",
    "- pada hubungan antara suhu dan penyewaan sepeda memiliki pengaruh yang signifikan, orang orang cenderung menyukai **suhu yang hangat** pada saat penyewaan dibandingkan dengan **suhu yang dingin**\n",
    "- pada hubungan kelembapan dengan penyewaan sepeda terlihat tidak memiliki pengaruh besar, pada garis lurus memperlihatkan bahwa orang orang cenderung menyewa sepeda di saat kelembapan udara berada di tengah tengah.\n",
    "- pada hubungan kecepatan angin memperlihatkan bahwa beberapa orang yang menyewa sepeda memiliki pengaruh yang signifikan terhadap jumlah penyewaan sepeda, banyak orang cenderung menyewa sepeda di sekitar kecepatan angin sepoi-sepoi"
   ]
  },
  {
   "cell_type": "markdown",
   "metadata": {
    "id": "9y4VUsmcYNZ5"
   },
   "source": [
    "## Analisis Lanjutan (Clustering)"
   ]
  },
  {
   "cell_type": "markdown",
   "metadata": {
    "id": "iWhnzsJGYUCO"
   },
   "source": [
    "Buat aturan Pengelompokkan"
   ]
  },
  {
   "cell_type": "markdown",
   "metadata": {},
   "source": [
    "Aturan Pengelompokkan suhu"
   ]
  },
  {
   "cell_type": "code",
   "execution_count": 166,
   "metadata": {},
   "outputs": [],
   "source": [
    "def group_temp(temp):\n",
    "    if temp < 0.3:\n",
    "        return 'Suhu Rendah'\n",
    "    elif 0.3 <= temp <= 0.7:\n",
    "        return 'Suhu Menengah'\n",
    "    else:\n",
    "        return 'Suhu Hangat'"
   ]
  },
  {
   "cell_type": "markdown",
   "metadata": {},
   "source": [
    "Aturan Pengelompokkan Kelembapan"
   ]
  },
  {
   "cell_type": "code",
   "execution_count": 169,
   "metadata": {},
   "outputs": [],
   "source": [
    "def group_humidity(hum):\n",
    "    if hum < 0.4:\n",
    "        return 'Kering'\n",
    "    elif 0.4 <= hum <= 0.7:\n",
    "        return 'Menengah'\n",
    "    else:\n",
    "        return 'Sangat Lembap'"
   ]
  },
  {
   "cell_type": "markdown",
   "metadata": {},
   "source": [
    "Aturan pengelompokkan kecepatan angin"
   ]
  },
  {
   "cell_type": "code",
   "execution_count": 172,
   "metadata": {},
   "outputs": [],
   "source": [
    "def group_windspeed(windspeed):\n",
    "    if windspeed < 0.2:\n",
    "        return 'Angin Sepoi-Sepoi'\n",
    "    elif 0.2 <= windspeed <= 0.5:\n",
    "        return 'Angin sedang'\n",
    "    else:\n",
    "        return 'Angin Kencang'"
   ]
  },
  {
   "cell_type": "markdown",
   "metadata": {},
   "source": [
    "Mengaplikasikan Fungsi"
   ]
  },
  {
   "cell_type": "code",
   "execution_count": 161,
   "metadata": {},
   "outputs": [],
   "source": [
    "day_df['Temp Group'] = day_df['temp'].apply(group_temp)\n",
    "day_df['Humidity Group'] = day_df['hum'].apply(group_humidity)\n",
    "day_df['Windspeed Group'] = day_df['windspeed'].apply(group_windspeed)"
   ]
  },
  {
   "cell_type": "markdown",
   "metadata": {},
   "source": [
    "implementasi"
   ]
  },
  {
   "cell_type": "code",
   "execution_count": 174,
   "metadata": {},
   "outputs": [
    {
     "data": {
      "image/png": "[encoded data removed]",
      "text/plain": [
       "<Figure size 1800x500 with 3 Axes>"
      ]
     },
     "metadata": {},
     "output_type": "display_data"
    }
   ],
   "source": [
    "plt.figure(figsize=(18, 5))\n",
    "\n",
    "plt.subplot(1, 3, 1)\n",
    "sns.barplot(x='Temp Group', y='cnt', data=day_df)\n",
    "plt.title('Rata rata peminjaman dengan Grup temepratur')\n",
    "plt.xlabel('Temepratur grup')\n",
    "plt.ylabel('Rata rata perental')\n",
    "\n",
    "plt.subplot(1, 3, 2)\n",
    "sns.barplot(x='Humidity Group', y='cnt', data=day_df)\n",
    "plt.title('Rata rata peminjaman dengan Grup Kelembapan')\n",
    "plt.xlabel('Humidity Group')\n",
    "plt.ylabel('Rata rata perental')\n",
    "\n",
    "plt.subplot(1, 3, 3)\n",
    "sns.barplot(x='Windspeed Group', y='cnt', data=day_df)\n",
    "plt.title('Rata rata peminjaman by Windspeed Group')\n",
    "plt.xlabel('Windspeed Group')\n",
    "plt.ylabel('Rata rata perental')\n",
    "\n",
    "plt.tight_layout()\n",
    "plt.show()"
   ]
  },
  {
   "cell_type": "markdown",
   "metadata": {},
   "source": [
    "**insight:**\n",
    "dapat disimpulkan bahwa pada rata rata perental memiliki habitnya masing masing,\n",
    "- peminjam cenderung menyukai **high temp** daripada **low temp**\n",
    "- peminjam pada grup kelembapan tidak begitu memilih antara lembap dan kering,\n",
    "- peminjam pada grup kecepatan angin memiliki kecenderungan untuk meminjam sepeda pada saat **angin calm** dibandung dengan **Angin Kencang**"
   ]
  },
  {
   "cell_type": "markdown",
   "metadata": {
    "id": "_WeHlCeX8DC2"
   },
   "source": [
    "## Conclusion"
   ]
  },
  {
   "cell_type": "markdown",
   "metadata": {
    "id": "ZTcyR48Y8DC2"
   },
   "source": [
    "- Conclution pertanyaan 1 : pelanggan lebih memilih menyewa sepeda saat langit cerah dan sedikit berawan. Meskipun cuaca mendung dan berawan masih diminati, hujan ringan dan salju ringan tetap memiliki peminat. Namun, hujan lebat dan salju lebat tidak diminati sama sekali, menandakan bahwa kondisi cuaca buruk berdampak negatif pada layanan bike sharing.i\n",
    "- Conclution pertanyaan 2 :Perbedaan jumlah sepeda yang disewakan pada weekday dan weekend tidak jauh berbeda, dengan data yang sudah diperoleh sebelumnya maka bisa disimpulkan bahwa kemungkinan banyaknya pesepeda di hari weekday(hari kerja) karena banyaknya orang yang menyewa sepeda pada saat jam jam berangkat kerja dan pulang kerja. hal ini memberikan sedikit pengaruh pada perbandingan antara hari kerja dan hari libur.\n",
    "- Conclution pertanyaan 3 : Hubungan antara suhu dan penyewaan sepeda menunjukkan pengaruh signifikan, di mana orang lebih menyukai suhu hangat untuk menyewa sepeda dibandingkan suhu dingin. Sementara itu, kelembapan udara tidak memiliki pengaruh besar, dengan penyewaan paling banyak terjadi pada tingkat kelembapan sedang. Kecepatan angin memiliki pengaruh signifikan, dengan sedikitnya orang yang mau menyewa di saat cuaca berangin. "
   ]
  }
 ],
 "metadata": {
  "colab": {
   "provenance": []
  },
  "kernelspec": {
   "display_name": "Python 3 (ipykernel)",
   "language": "python",
   "name": "python3"
  },
  "language_info": {
   "codemirror_mode": {
    "name": "ipython",
    "version": 3
   },
   "file_extension": ".py",
   "mimetype": "text/x-python",
   "name": "python",
   "nbconvert_exporter": "python",
   "pygments_lexer": "ipython3",
   "version": "3.12.4"
  },
  "vscode": {
   "interpreter": {
    "hash": "972b3bf27e332e87b5379f2791f6ef9dfc79c71018c370b0d7423235e20fe4d7"
   }
  }
 },
 "nbformat": 4,
 "nbformat_minor": 4
}
