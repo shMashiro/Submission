{
 "cells": [
  {
   "cell_type": "code",
   "execution_count": 2,
   "metadata": {},
   "outputs": [],
   "source": [
    "import pandas as pd"
   ]
  },
  {
   "cell_type": "code",
   "execution_count": 3,
   "metadata": {},
   "outputs": [
    {
     "name": "stdout",
     "output_type": "stream",
     "text": [
      "\n",
      "INSTALLED VERSIONS\n",
      "------------------\n",
      "commit                : d9cdd2ee5a58015ef6f4d15c7226110c9aab8140\n",
      "python                : 3.12.4.final.0\n",
      "python-bits           : 64\n",
      "OS                    : Windows\n",
      "OS-release            : 10\n",
      "Version               : 10.0.19045\n",
      "machine               : AMD64\n",
      "processor             : AMD64 Family 23 Model 17 Stepping 0, AuthenticAMD\n",
      "byteorder             : little\n",
      "LC_ALL                : None\n",
      "LANG                  : None\n",
      "LOCALE                : English_United States.1252\n",
      "\n",
      "pandas                : 2.2.2\n",
      "numpy                 : 1.26.4\n",
      "pytz                  : 2024.1\n",
      "dateutil              : 2.9.0.post0\n",
      "setuptools            : 75.1.0\n",
      "pip                   : 24.0\n",
      "Cython                : None\n",
      "pytest                : 7.4.4\n",
      "hypothesis            : None\n",
      "sphinx                : 7.3.7\n",
      "blosc                 : None\n",
      "feather               : None\n",
      "xlsxwriter            : None\n",
      "lxml.etree            : 5.2.1\n",
      "html5lib              : None\n",
      "pymysql               : None\n",
      "psycopg2              : None\n",
      "jinja2                : 3.1.4\n",
      "IPython               : 8.12.3\n",
      "pandas_datareader     : None\n",
      "adbc-driver-postgresql: None\n",
      "adbc-driver-sqlite    : None\n",
      "bs4                   : 4.12.3\n",
      "bottleneck            : 1.3.7\n",
      "dataframe-api-compat  : None\n",
      "fastparquet           : None\n",
      "fsspec                : 2024.3.1\n",
      "gcsfs                 : None\n",
      "matplotlib            : 3.8.4\n",
      "numba                 : 0.59.1\n",
      "numexpr               : 2.8.7\n",
      "odfpy                 : None\n",
      "openpyxl              : 3.1.2\n",
      "pandas_gbq            : None\n",
      "pyarrow               : 14.0.2\n",
      "pyreadstat            : None\n",
      "python-calamine       : None\n",
      "pyxlsb                : None\n",
      "s3fs                  : 2024.3.1\n",
      "scipy                 : 1.13.1\n",
      "sqlalchemy            : 2.0.30\n",
      "tables                : 3.9.2\n",
      "tabulate              : 0.9.0\n",
      "xarray                : 2023.6.0\n",
      "xlrd                  : None\n",
      "zstandard             : 0.22.0\n",
      "tzdata                : 2023.3\n",
      "qtpy                  : 2.4.1\n",
      "pyqt5                 : None\n"
     ]
    }
   ],
   "source": [
    "pd.show_versions(as_json=False)"
   ]
  }
 ],
 "metadata": {
  "kernelspec": {
   "display_name": "base",
   "language": "python",
   "name": "python3"
  },
  "language_info": {
   "codemirror_mode": {
    "name": "ipython",
    "version": 3
   },
   "file_extension": ".py",
   "mimetype": "text/x-python",
   "name": "python",
   "nbconvert_exporter": "python",
   "pygments_lexer": "ipython3",
   "version": "3.12.4"
  }
 },
 "nbformat": 4,
 "nbformat_minor": 2
}
